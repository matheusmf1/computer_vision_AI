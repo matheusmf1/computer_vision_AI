{
  "nbformat": 4,
  "nbformat_minor": 0,
  "metadata": {
    "colab": {
      "name": "analise_algoritmos.ipynb",
      "provenance": [],
      "authorship_tag": "ABX9TyPWeCr7yLG0jTtv+6ICtEOT",
      "include_colab_link": true
    },
    "kernelspec": {
      "name": "python3",
      "display_name": "Python 3"
    }
  },
  "cells": [
    {
      "cell_type": "markdown",
      "metadata": {
        "id": "view-in-github",
        "colab_type": "text"
      },
      "source": [
        "<a href=\"https://colab.research.google.com/github/matheusmf1/computer_vision_AI/blob/master/analise_algoritmos.ipynb\" target=\"_parent\"><img src=\"https://colab.research.google.com/assets/colab-badge.svg\" alt=\"Open In Colab\"/></a>"
      ]
    },
    {
      "cell_type": "markdown",
      "metadata": {
        "id": "xyUuWuKJX6CS",
        "colab_type": "text"
      },
      "source": [
        "# Analisando algorítmos\n",
        "\n",
        "- Eingen Faces\n",
        "- FisherFace\n",
        "- LBPH"
      ]
    },
    {
      "cell_type": "code",
      "metadata": {
        "id": "2zMtjM-hWp52",
        "colab_type": "code",
        "colab": {
          "base_uri": "https://localhost:8080/",
          "height": 34
        },
        "outputId": "b070151c-efad-46ab-d962-b574fc38d0f1"
      },
      "source": [
        "# from google.colab import drive\n",
        "# drive.mount('/content/drive')"
      ],
      "execution_count": 1,
      "outputs": [
        {
          "output_type": "stream",
          "text": [
            "Drive already mounted at /content/drive; to attempt to forcibly remount, call drive.mount(\"/content/drive\", force_remount=True).\n"
          ],
          "name": "stdout"
        }
      ]
    },
    {
      "cell_type": "code",
      "metadata": {
        "id": "Mrwep2nTX80W",
        "colab_type": "code",
        "colab": {}
      },
      "source": [
        "import cv2"
      ],
      "execution_count": 2,
      "outputs": []
    },
    {
      "cell_type": "code",
      "metadata": {
        "id": "0F99Pk5dZJcz",
        "colab_type": "code",
        "colab": {}
      },
      "source": [
        "# Caminhos para os diretórios \n",
        "path_treino = '/content/drive/My Drive/Colab Notebooks/Visão Computacional/images/treino/'\n",
        "path_teste = '/content/drive/My Drive/Colab Notebooks/Visão Computacional/images/teste/'"
      ],
      "execution_count": 3,
      "outputs": []
    },
    {
      "cell_type": "code",
      "metadata": {
        "id": "ZQ9WO2_9Znvg",
        "colab_type": "code",
        "colab": {}
      },
      "source": [
        "# Nome das imagens para rodar\n",
        "nome_imagens_treino = []\n",
        "nome_imagens_teste = []\n",
        "\n",
        "#Labels das imagens\n",
        "labels_imagens_treino = []\n",
        "labels_imagens_teste = []\n",
        "\n"
      ],
      "execution_count": 21,
      "outputs": []
    },
    {
      "cell_type": "code",
      "metadata": {
        "id": "WX9h9GdHahVu",
        "colab_type": "code",
        "colab": {
          "base_uri": "https://localhost:8080/",
          "height": 68
        },
        "outputId": "58921885-00a0-433d-d6cc-0dfaec857577"
      },
      "source": [
        "#Navegar pelos diretórios\n",
        "from os import walk\n",
        "\n",
        "#Imagens de treino\n",
        "for ( dirpath, dirnames, filenames ) in walk( path_treino ):\n",
        "  for arquivo in filenames:\n",
        "    if '.jpg' in arquivo:\n",
        "      nome_imagens_treino.append( arquivo )\n",
        "      labels_imagens_treino.append( arquivo[1:3] )\n",
        "      \n",
        "print( len( nome_imagens_treino ) )\n",
        "print( nome_imagens_treino[78] )\n",
        "print( labels_imagens_treino[78] )"
      ],
      "execution_count": 22,
      "outputs": [
        {
          "output_type": "stream",
          "text": [
            "500\n",
            "s40_04.jpg\n",
            "40\n"
          ],
          "name": "stdout"
        }
      ]
    },
    {
      "cell_type": "code",
      "metadata": {
        "id": "IHysDwCubcL9",
        "colab_type": "code",
        "colab": {
          "base_uri": "https://localhost:8080/",
          "height": 34
        },
        "outputId": "797a71d3-8f98-438c-b0a2-ac54f61464b7"
      },
      "source": [
        "#Navegar pelos diretórios\n",
        "from os import walk\n",
        "\n",
        "#Imagens de teste\n",
        "for ( dirpath, dirnames, filenames ) in walk( path_teste ):\n",
        "  for arquivo in filenames:\n",
        "    if '.jpg' in arquivo:\n",
        "      nome_imagens_teste.append( arquivo )\n",
        "      labels_imagens_teste.append( arquivo[1:3] )\n",
        "      \n",
        "print( len( nome_imagens_teste ) )"
      ],
      "execution_count": 23,
      "outputs": [
        {
          "output_type": "stream",
          "text": [
            "250\n"
          ],
          "name": "stdout"
        }
      ]
    },
    {
      "cell_type": "code",
      "metadata": {
        "id": "3wAt7gB2da0K",
        "colab_type": "code",
        "colab": {
          "base_uri": "https://localhost:8080/",
          "height": 34
        },
        "outputId": "db591876-5b66-4e66-cc54-790f052441dc"
      },
      "source": [
        "# Carrega as imagens de teste na memória\n",
        "\n",
        "imagens_teste = []\n",
        "\n",
        "for pessoa in nome_imagens_teste:\n",
        "  imagem = cv2.imread( path_teste + pessoa, cv2.IMREAD_GRAYSCALE )\n",
        "  imagem = cv2.resize( imagem, ( 200,200 ) )\n",
        "  imagens_teste.append( imagem )\n",
        "\n",
        "print( len( imagens_teste ) )"
      ],
      "execution_count": 24,
      "outputs": [
        {
          "output_type": "stream",
          "text": [
            "250\n"
          ],
          "name": "stdout"
        }
      ]
    },
    {
      "cell_type": "code",
      "metadata": {
        "id": "2MV5dnu3eD5H",
        "colab_type": "code",
        "colab": {}
      },
      "source": [
        "# Carrega as imagens de treinamento na memória\n",
        "\n",
        "imagens_treino = []\n",
        "\n",
        "for pessoa in nome_imagens_treino:\n",
        "  imagem = cv2.imread( path_treino + pessoa, cv2.IMREAD_GRAYSCALE )\n",
        "  imagem = cv2.resize( imagem, ( 200,200 ) )\n",
        "  imagens_treino.append( imagem )\n",
        "\n",
        "print( len( imagens_treino ) )"
      ],
      "execution_count": null,
      "outputs": []
    },
    {
      "cell_type": "code",
      "metadata": {
        "id": "n0lDGW5feph8",
        "colab_type": "code",
        "colab": {}
      },
      "source": [
        "# Converter os labels para o formato np.int32\n",
        "\n",
        "import numpy as np\n",
        "\n",
        "labels_imagens_teste = np.asarray( labels_imagens_teste, dtype=np.int32 )\n",
        "labels_imagens_treino = np.asarray( labels_imagens_treino, dtype=np.int32 )\n"
      ],
      "execution_count": 27,
      "outputs": []
    },
    {
      "cell_type": "markdown",
      "metadata": {
        "id": "63BF-LGFlaEu",
        "colab_type": "text"
      },
      "source": [
        "## Algoritmo Eingen Faces"
      ]
    },
    {
      "cell_type": "code",
      "metadata": {
        "id": "9BXJJu4ngR0T",
        "colab_type": "code",
        "colab": {}
      },
      "source": [
        "# Carrega o modelo de Eingen Faces\n",
        "\n",
        "modelo_eigen = cv2.face.EigenFaceRecognizer_create()"
      ],
      "execution_count": 28,
      "outputs": []
    },
    {
      "cell_type": "code",
      "metadata": {
        "id": "-aebRhLKgqb7",
        "colab_type": "code",
        "colab": {}
      },
      "source": [
        "# Treinar o modelo de Eigen\n",
        "# Gera o modelo para gente\n",
        "\n",
        "modelo_eigen.train( imagens_treino, labels_imagens_treino )\n"
      ],
      "execution_count": 29,
      "outputs": []
    },
    {
      "cell_type": "code",
      "metadata": {
        "id": "1bREYr9dg-9P",
        "colab_type": "code",
        "colab": {
          "base_uri": "https://localhost:8080/",
          "height": 51
        },
        "outputId": "15b0ab09-3851-4262-ace7-1c2e4823e2ac"
      },
      "source": [
        "# Verifica o resultado\n",
        "\n",
        "resultado = modelo_eigen.predict( imagens_teste[1] )\n",
        "\n",
        "print( resultado ) # ( label, \n",
        "print( labels_imagens_teste[1] ) #verifica se acertou ou não\n",
        "\n",
        "# pode ser que acerte ou não"
      ],
      "execution_count": 52,
      "outputs": [
        {
          "output_type": "stream",
          "text": [
            "(1, 5046.148523970561)\n",
            "7\n"
          ],
          "name": "stdout"
        }
      ]
    },
    {
      "cell_type": "code",
      "metadata": {
        "id": "d4oSf2E6hjHz",
        "colab_type": "code",
        "colab": {}
      },
      "source": [
        "#Para verificar a acurácia do modelo gerado\n",
        "\n",
        "from sklearn.metrics import accuracy_score"
      ],
      "execution_count": 35,
      "outputs": []
    },
    {
      "cell_type": "code",
      "metadata": {
        "id": "u_gfXc-AiNth",
        "colab_type": "code",
        "colab": {}
      },
      "source": [
        "# Verifica a acurácia do modelo de Eingen\n",
        "\n",
        "predicoes_eingen = []\n",
        "\n",
        "for imagem in imagens_teste:\n",
        "  predicoes_eingen.append( modelo_eigen.predict( imagem )[0] )"
      ],
      "execution_count": 39,
      "outputs": []
    },
    {
      "cell_type": "code",
      "metadata": {
        "id": "QSXQXtchi_sZ",
        "colab_type": "code",
        "colab": {
          "base_uri": "https://localhost:8080/",
          "height": 34
        },
        "outputId": "b91d52b2-d31e-4142-b05a-bfb361735a03"
      },
      "source": [
        "resultado_modelo_eingen = accuracy_score( labels_imagens_teste, predicoes_eingen )\n",
        "print( resultado_modelo_eingen )"
      ],
      "execution_count": 40,
      "outputs": [
        {
          "output_type": "stream",
          "text": [
            "0.74\n"
          ],
          "name": "stdout"
        }
      ]
    },
    {
      "cell_type": "markdown",
      "metadata": {
        "id": "jo-X1XwNlVNL",
        "colab_type": "text"
      },
      "source": [
        "## Algoritmo FisherFace"
      ]
    },
    {
      "cell_type": "code",
      "metadata": {
        "id": "_-WY__FBjOz3",
        "colab_type": "code",
        "colab": {}
      },
      "source": [
        "# Carrega modelo FisherFace\n",
        "\n",
        "modelo_fisher = cv2.face.FisherFaceRecognizer_create()"
      ],
      "execution_count": 41,
      "outputs": []
    },
    {
      "cell_type": "code",
      "metadata": {
        "id": "_hL8a7Dmjrk4",
        "colab_type": "code",
        "colab": {}
      },
      "source": [
        "# Treina o modelo de Fisher\n",
        "\n",
        "modelo_fisher.train( imagens_treino, labels_imagens_treino )"
      ],
      "execution_count": 42,
      "outputs": []
    },
    {
      "cell_type": "code",
      "metadata": {
        "id": "pt9KW6Dij0qh",
        "colab_type": "code",
        "colab": {
          "base_uri": "https://localhost:8080/",
          "height": 51
        },
        "outputId": "0f068aca-95ab-4f5b-ca4b-7b18b37ac60e"
      },
      "source": [
        "# Verifica o resultado\n",
        "\n",
        "resultado = modelo_fisher.predict( imagens_teste[1] )\n",
        "\n",
        "print( resultado ) # ( label, \n",
        "print( labels_imagens_teste[1] ) #verifica se acertou ou não\n",
        "\n",
        "# pode ser que acerte ou não"
      ],
      "execution_count": 53,
      "outputs": [
        {
          "output_type": "stream",
          "text": [
            "(32, 984.2792365277318)\n",
            "7\n"
          ],
          "name": "stdout"
        }
      ]
    },
    {
      "cell_type": "code",
      "metadata": {
        "id": "YPqR2EZ2kdp2",
        "colab_type": "code",
        "colab": {}
      },
      "source": [
        "# Verifica a acurácia do modelo de Eingen\n",
        "\n",
        "predicoes_fisher = []\n",
        "\n",
        "for imagem in imagens_teste:\n",
        "  predicoes_fisher.append( modelo_fisher.predict( imagem )[0] )"
      ],
      "execution_count": 44,
      "outputs": []
    },
    {
      "cell_type": "code",
      "metadata": {
        "id": "XIdhRBg1kssn",
        "colab_type": "code",
        "colab": {
          "base_uri": "https://localhost:8080/",
          "height": 34
        },
        "outputId": "e96f6a51-fdf6-4123-bd16-e5647b57e1fd"
      },
      "source": [
        "resultado_modelo_fisher = accuracy_score( labels_imagens_teste, predicoes_fisher )\n",
        "print( resultado_modelo_fisher )\n",
        "\n",
        "# Para esse conjunto de imagens o modelo de Eigen é extremamente superior\n",
        "\n",
        "# O modelo de fisher funciona bem melhor se todas as imagens forem padronizadas, como por exemplo documentos, RG"
      ],
      "execution_count": 46,
      "outputs": [
        {
          "output_type": "stream",
          "text": [
            "0.544\n"
          ],
          "name": "stdout"
        }
      ]
    },
    {
      "cell_type": "markdown",
      "metadata": {
        "id": "dbqAjy-rlLnC",
        "colab_type": "text"
      },
      "source": [
        "## Algoritmo LBPH"
      ]
    },
    {
      "cell_type": "code",
      "metadata": {
        "id": "9-omaVW_kzw4",
        "colab_type": "code",
        "colab": {}
      },
      "source": [
        "# Carrega modelo LBPH\n",
        "\n",
        "modelo_lbph = cv2.face.LBPHFaceRecognizer_create()"
      ],
      "execution_count": 47,
      "outputs": []
    },
    {
      "cell_type": "code",
      "metadata": {
        "id": "-s7wpMTrlleW",
        "colab_type": "code",
        "colab": {}
      },
      "source": [
        "# Treina o modelo de LBPH\n",
        "\n",
        "modelo_lbph.train( imagens_treino, labels_imagens_treino )"
      ],
      "execution_count": 48,
      "outputs": []
    },
    {
      "cell_type": "code",
      "metadata": {
        "id": "M16jLddKls8_",
        "colab_type": "code",
        "colab": {
          "base_uri": "https://localhost:8080/",
          "height": 51
        },
        "outputId": "dcf84729-7452-4741-8ff4-e2f3e14877b6"
      },
      "source": [
        "# Verifica o resultado\n",
        "\n",
        "resultado = modelo_lbph.predict( imagens_teste[1] )\n",
        "\n",
        "print( resultado ) \n",
        "print( labels_imagens_teste[1] ) #verifica se acertou ou não\n",
        "\n",
        "# pode ser que acerte ou não\n",
        "\n",
        "# Comparando com os outros essa cara acertou"
      ],
      "execution_count": 49,
      "outputs": [
        {
          "output_type": "stream",
          "text": [
            "(7, 41.68314283461599)\n",
            "7\n"
          ],
          "name": "stdout"
        }
      ]
    },
    {
      "cell_type": "code",
      "metadata": {
        "id": "GvPh9kk4lzWQ",
        "colab_type": "code",
        "colab": {}
      },
      "source": [
        "# Verifica a acurácia do modelo de LBPH\n",
        "\n",
        "predicoes_lbph = []\n",
        "\n",
        "for imagem in imagens_teste:\n",
        "  predicoes_lbph.append( modelo_lbph.predict( imagem )[0] )"
      ],
      "execution_count": 50,
      "outputs": []
    },
    {
      "cell_type": "code",
      "metadata": {
        "id": "yiddtqn7l_Yj",
        "colab_type": "code",
        "colab": {
          "base_uri": "https://localhost:8080/",
          "height": 34
        },
        "outputId": "801ea70f-c690-4905-804e-4ba514182463"
      },
      "source": [
        "resultado_modelo_lbph = accuracy_score( labels_imagens_teste, predicoes_lbph )\n",
        "print( resultado_modelo_lbph )"
      ],
      "execution_count": 51,
      "outputs": [
        {
          "output_type": "stream",
          "text": [
            "0.8\n"
          ],
          "name": "stdout"
        }
      ]
    },
    {
      "cell_type": "code",
      "metadata": {
        "id": "FVGOI_GEmGn7",
        "colab_type": "code",
        "colab": {}
      },
      "source": [
        ""
      ],
      "execution_count": null,
      "outputs": []
    }
  ]
}