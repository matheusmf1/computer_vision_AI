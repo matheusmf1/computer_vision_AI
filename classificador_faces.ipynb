{
  "nbformat": 4,
  "nbformat_minor": 0,
  "metadata": {
    "colab": {
      "name": "classificador_faces",
      "provenance": [],
      "collapsed_sections": [],
      "mount_file_id": "1Hz8AoudP-ksM8yWRgR_AkHgJxpka5hIF",
      "authorship_tag": "ABX9TyMpNtaJEjp9ORBoZSUGgwF6",
      "include_colab_link": true
    },
    "kernelspec": {
      "name": "python3",
      "display_name": "Python 3"
    }
  },
  "cells": [
    {
      "cell_type": "markdown",
      "metadata": {
        "id": "view-in-github",
        "colab_type": "text"
      },
      "source": [
        "<a href=\"https://colab.research.google.com/github/matheusmf1/computer_vision_AI/blob/master/classificador_faces.ipynb\" target=\"_parent\"><img src=\"https://colab.research.google.com/assets/colab-badge.svg\" alt=\"Open In Colab\"/></a>"
      ]
    },
    {
      "cell_type": "markdown",
      "metadata": {
        "id": "cxNR71zhPBsO",
        "colab_type": "text"
      },
      "source": [
        "# Classificador de Faces"
      ]
    },
    {
      "cell_type": "markdown",
      "metadata": {
        "id": "F8uKEwCFQQML",
        "colab_type": "text"
      },
      "source": [
        "## Captura de Camera"
      ]
    },
    {
      "cell_type": "code",
      "metadata": {
        "id": "Zvwrk0OaQNuQ",
        "colab_type": "code",
        "colab": {}
      },
      "source": [
        "from IPython.display import display, Javascript\n",
        "from google.colab.output import eval_js\n",
        "from base64 import b64decode\n",
        "\n",
        "def take_photo(filename='photo.jpg', quality=0.8):\n",
        "  js = Javascript('''\n",
        "    async function takePhoto(quality) {\n",
        "      const div = document.createElement('div');\n",
        "      const capture = document.createElement('button');\n",
        "      capture.textContent = 'Capture';\n",
        "      div.appendChild(capture);\n",
        "\n",
        "      const video = document.createElement('video');\n",
        "      video.style.display = 'block';\n",
        "      const stream = await navigator.mediaDevices.getUserMedia({video: true});\n",
        "\n",
        "      document.body.appendChild(div);\n",
        "      div.appendChild(video);\n",
        "      video.srcObject = stream;\n",
        "      await video.play();\n",
        "\n",
        "      // Resize the output to fit the video element.\n",
        "      google.colab.output.setIframeHeight(document.documentElement.scrollHeight, true);\n",
        "\n",
        "      // Wait for Capture to be clicked.\n",
        "      // await new Promise((resolve) => capture.onclick = resolve);\n",
        "\n",
        "      const canvas = document.createElement('canvas');\n",
        "      canvas.width = video.videoWidth;\n",
        "      canvas.height = video.videoHeight;\n",
        "      canvas.getContext('2d').drawImage(video, 0, 0);\n",
        "      stream.getVideoTracks()[0].stop();\n",
        "      div.remove();\n",
        "      return canvas.toDataURL('image/jpeg', quality);\n",
        "    }\n",
        "    ''')\n",
        "  display(js)\n",
        "  data = eval_js('takePhoto({})'.format(quality))\n",
        "  binary = b64decode(data.split(',')[1])\n",
        "  with open(filename, 'wb') as f:\n",
        "    f.write(binary)\n",
        "  return filename"
      ],
      "execution_count": null,
      "outputs": []
    },
    {
      "cell_type": "code",
      "metadata": {
        "id": "s7buDqflQNtB",
        "colab_type": "code",
        "colab": {}
      },
      "source": [
        "from IPython.display import Image\n",
        "try:\n",
        "  filename = take_photo()\n",
        "  print('Saved to {}'.format(filename))\n",
        "  \n",
        "  # Show the image which was just taken.\n",
        "  display(Image(filename))\n",
        "except Exception as err:\n",
        "  # Errors will be thrown if the user does not have a webcam or if they do not\n",
        "  # grant the page permission to access it.\n",
        "  print(str(err))"
      ],
      "execution_count": null,
      "outputs": []
    },
    {
      "cell_type": "code",
      "metadata": {
        "id": "Fgs8My1TPEkT",
        "colab_type": "code",
        "colab": {}
      },
      "source": [
        "# Rodar camera localmente\n",
        "# import cv2\n",
        "# import matplotlib.pplot as plt\n",
        "# %matplotlib inline\n",
        "# camera = cv2.VideoCapture(0)\n",
        "# ret,frame = camera.read()\n",
        "# if ret:\n",
        "#   frame = cv2.cvtColor(frame, cv2.COLOR_BGR2RGB)\n",
        "#   plt.imshow(frame)\n",
        "#   plt.show()\n",
        "# camera.release()\n"
      ],
      "execution_count": null,
      "outputs": []
    },
    {
      "cell_type": "markdown",
      "metadata": {
        "id": "7yJgmj6JrCjC",
        "colab_type": "text"
      },
      "source": [
        "### sxx_yy.jpg -- xx é o nosso número e yy e a amostra\n",
        "- yy -> 00 a 6 - Treino\n",
        "- yy ->  07 a 09 - Teste"
      ]
    },
    {
      "cell_type": "code",
      "metadata": {
        "id": "XQLcKciBUiSU",
        "colab_type": "code",
        "colab": {
          "base_uri": "https://localhost:8080/",
          "height": 17
        },
        "outputId": "e3f23920-6c4e-4568-a0bc-00025d3b38eb"
      },
      "source": [
        "# imagem = take_photo( 's11_00.jpg' )\n",
        "imagem = take_photo( 'teste.jpg' )"
      ],
      "execution_count": null,
      "outputs": [
        {
          "output_type": "display_data",
          "data": {
            "application/javascript": [
              "\n",
              "    async function takePhoto(quality) {\n",
              "      const div = document.createElement('div');\n",
              "      const capture = document.createElement('button');\n",
              "      capture.textContent = 'Capture';\n",
              "      div.appendChild(capture);\n",
              "\n",
              "      const video = document.createElement('video');\n",
              "      video.style.display = 'block';\n",
              "      const stream = await navigator.mediaDevices.getUserMedia({video: true});\n",
              "\n",
              "      document.body.appendChild(div);\n",
              "      div.appendChild(video);\n",
              "      video.srcObject = stream;\n",
              "      await video.play();\n",
              "\n",
              "      // Resize the output to fit the video element.\n",
              "      google.colab.output.setIframeHeight(document.documentElement.scrollHeight, true);\n",
              "\n",
              "      // Wait for Capture to be clicked.\n",
              "      // await new Promise((resolve) => capture.onclick = resolve);\n",
              "\n",
              "      const canvas = document.createElement('canvas');\n",
              "      canvas.width = video.videoWidth;\n",
              "      canvas.height = video.videoHeight;\n",
              "      canvas.getContext('2d').drawImage(video, 0, 0);\n",
              "      stream.getVideoTracks()[0].stop();\n",
              "      div.remove();\n",
              "      return canvas.toDataURL('image/jpeg', quality);\n",
              "    }\n",
              "    "
            ],
            "text/plain": [
              "<IPython.core.display.Javascript object>"
            ]
          },
          "metadata": {
            "tags": []
          }
        }
      ]
    },
    {
      "cell_type": "code",
      "metadata": {
        "id": "9Ln3pzRuU_2k",
        "colab_type": "code",
        "colab": {
          "base_uri": "https://localhost:8080/",
          "height": 34
        },
        "outputId": "c4aa2734-54d5-4262-9d4b-277152569a4c"
      },
      "source": [
        "print(imagem)"
      ],
      "execution_count": null,
      "outputs": [
        {
          "output_type": "stream",
          "text": [
            "s11_00.jpg\n"
          ],
          "name": "stdout"
        }
      ]
    },
    {
      "cell_type": "code",
      "metadata": {
        "id": "zCzt48J9Vdin",
        "colab_type": "code",
        "colab": {
          "base_uri": "https://localhost:8080/",
          "height": 34
        },
        "outputId": "52e6e467-0ff0-4227-902d-f9cb97ccb659"
      },
      "source": [
        "# from google.colab import drive\n",
        "# drive.mount('/content/drive')"
      ],
      "execution_count": null,
      "outputs": [
        {
          "output_type": "stream",
          "text": [
            "Drive already mounted at /content/drive; to attempt to forcibly remount, call drive.mount(\"/content/drive\", force_remount=True).\n"
          ],
          "name": "stdout"
        }
      ]
    },
    {
      "cell_type": "code",
      "metadata": {
        "id": "ioLZCwDcbkzg",
        "colab_type": "code",
        "colab": {}
      },
      "source": [
        "path_base = '/content/drive/My Drive/Colab Notebooks/Visão Computacional/images/DataSetImagens/'\n",
        "treino = 'treino/'\n",
        "teste = 'teste/'"
      ],
      "execution_count": null,
      "outputs": []
    },
    {
      "cell_type": "code",
      "metadata": {
        "id": "D0UsFtYaVmvo",
        "colab_type": "code",
        "colab": {
          "base_uri": "https://localhost:8080/",
          "height": 187
        },
        "outputId": "0bc4f087-2ac0-4bb8-dd5b-201d034c8817"
      },
      "source": [
        "# TIRA E DA UPLOAD DAS FOTOS\n",
        "\n",
        "# limiar = 7\n",
        "# meuCodigo = '11'\n",
        "\n",
        "\n",
        "# for i in range(10):\n",
        "#   if i < limiar:\n",
        "#     imagem = take_photo(path_base+treino+'s%s_%02i.jpg' % (meuCodigo, i))\n",
        "#   else:  \n",
        "#     imagem = take_photo(path_base+teste+'s%s_%02i.jpg' % (meuCodigo, i))\n",
        "#   print(imagem)"
      ],
      "execution_count": null,
      "outputs": [
        {
          "output_type": "display_data",
          "data": {
            "application/javascript": [
              "\n",
              "    async function takePhoto(quality) {\n",
              "      const div = document.createElement('div');\n",
              "      const capture = document.createElement('button');\n",
              "      capture.textContent = 'Capture';\n",
              "      div.appendChild(capture);\n",
              "\n",
              "      const video = document.createElement('video');\n",
              "      video.style.display = 'block';\n",
              "      const stream = await navigator.mediaDevices.getUserMedia({video: true});\n",
              "\n",
              "      document.body.appendChild(div);\n",
              "      div.appendChild(video);\n",
              "      video.srcObject = stream;\n",
              "      await video.play();\n",
              "\n",
              "      // Resize the output to fit the video element.\n",
              "      google.colab.output.setIframeHeight(document.documentElement.scrollHeight, true);\n",
              "\n",
              "      // Wait for Capture to be clicked.\n",
              "      // await new Promise((resolve) => capture.onclick = resolve);\n",
              "\n",
              "      const canvas = document.createElement('canvas');\n",
              "      canvas.width = video.videoWidth;\n",
              "      canvas.height = video.videoHeight;\n",
              "      canvas.getContext('2d').drawImage(video, 0, 0);\n",
              "      stream.getVideoTracks()[0].stop();\n",
              "      div.remove();\n",
              "      return canvas.toDataURL('image/jpeg', quality);\n",
              "    }\n",
              "    "
            ],
            "text/plain": [
              "<IPython.core.display.Javascript object>"
            ]
          },
          "metadata": {
            "tags": []
          }
        },
        {
          "output_type": "stream",
          "text": [
            "/content/drive/My Drive/Colab Notebooks/Visão Computacional/images/DataSetImagens/treino/s11_00.jpg\n"
          ],
          "name": "stdout"
        },
        {
          "output_type": "display_data",
          "data": {
            "application/javascript": [
              "\n",
              "    async function takePhoto(quality) {\n",
              "      const div = document.createElement('div');\n",
              "      const capture = document.createElement('button');\n",
              "      capture.textContent = 'Capture';\n",
              "      div.appendChild(capture);\n",
              "\n",
              "      const video = document.createElement('video');\n",
              "      video.style.display = 'block';\n",
              "      const stream = await navigator.mediaDevices.getUserMedia({video: true});\n",
              "\n",
              "      document.body.appendChild(div);\n",
              "      div.appendChild(video);\n",
              "      video.srcObject = stream;\n",
              "      await video.play();\n",
              "\n",
              "      // Resize the output to fit the video element.\n",
              "      google.colab.output.setIframeHeight(document.documentElement.scrollHeight, true);\n",
              "\n",
              "      // Wait for Capture to be clicked.\n",
              "      // await new Promise((resolve) => capture.onclick = resolve);\n",
              "\n",
              "      const canvas = document.createElement('canvas');\n",
              "      canvas.width = video.videoWidth;\n",
              "      canvas.height = video.videoHeight;\n",
              "      canvas.getContext('2d').drawImage(video, 0, 0);\n",
              "      stream.getVideoTracks()[0].stop();\n",
              "      div.remove();\n",
              "      return canvas.toDataURL('image/jpeg', quality);\n",
              "    }\n",
              "    "
            ],
            "text/plain": [
              "<IPython.core.display.Javascript object>"
            ]
          },
          "metadata": {
            "tags": []
          }
        },
        {
          "output_type": "stream",
          "text": [
            "/content/drive/My Drive/Colab Notebooks/Visão Computacional/images/DataSetImagens/treino/s11_01.jpg\n"
          ],
          "name": "stdout"
        },
        {
          "output_type": "display_data",
          "data": {
            "application/javascript": [
              "\n",
              "    async function takePhoto(quality) {\n",
              "      const div = document.createElement('div');\n",
              "      const capture = document.createElement('button');\n",
              "      capture.textContent = 'Capture';\n",
              "      div.appendChild(capture);\n",
              "\n",
              "      const video = document.createElement('video');\n",
              "      video.style.display = 'block';\n",
              "      const stream = await navigator.mediaDevices.getUserMedia({video: true});\n",
              "\n",
              "      document.body.appendChild(div);\n",
              "      div.appendChild(video);\n",
              "      video.srcObject = stream;\n",
              "      await video.play();\n",
              "\n",
              "      // Resize the output to fit the video element.\n",
              "      google.colab.output.setIframeHeight(document.documentElement.scrollHeight, true);\n",
              "\n",
              "      // Wait for Capture to be clicked.\n",
              "      // await new Promise((resolve) => capture.onclick = resolve);\n",
              "\n",
              "      const canvas = document.createElement('canvas');\n",
              "      canvas.width = video.videoWidth;\n",
              "      canvas.height = video.videoHeight;\n",
              "      canvas.getContext('2d').drawImage(video, 0, 0);\n",
              "      stream.getVideoTracks()[0].stop();\n",
              "      div.remove();\n",
              "      return canvas.toDataURL('image/jpeg', quality);\n",
              "    }\n",
              "    "
            ],
            "text/plain": [
              "<IPython.core.display.Javascript object>"
            ]
          },
          "metadata": {
            "tags": []
          }
        },
        {
          "output_type": "stream",
          "text": [
            "/content/drive/My Drive/Colab Notebooks/Visão Computacional/images/DataSetImagens/treino/s11_02.jpg\n"
          ],
          "name": "stdout"
        },
        {
          "output_type": "display_data",
          "data": {
            "application/javascript": [
              "\n",
              "    async function takePhoto(quality) {\n",
              "      const div = document.createElement('div');\n",
              "      const capture = document.createElement('button');\n",
              "      capture.textContent = 'Capture';\n",
              "      div.appendChild(capture);\n",
              "\n",
              "      const video = document.createElement('video');\n",
              "      video.style.display = 'block';\n",
              "      const stream = await navigator.mediaDevices.getUserMedia({video: true});\n",
              "\n",
              "      document.body.appendChild(div);\n",
              "      div.appendChild(video);\n",
              "      video.srcObject = stream;\n",
              "      await video.play();\n",
              "\n",
              "      // Resize the output to fit the video element.\n",
              "      google.colab.output.setIframeHeight(document.documentElement.scrollHeight, true);\n",
              "\n",
              "      // Wait for Capture to be clicked.\n",
              "      // await new Promise((resolve) => capture.onclick = resolve);\n",
              "\n",
              "      const canvas = document.createElement('canvas');\n",
              "      canvas.width = video.videoWidth;\n",
              "      canvas.height = video.videoHeight;\n",
              "      canvas.getContext('2d').drawImage(video, 0, 0);\n",
              "      stream.getVideoTracks()[0].stop();\n",
              "      div.remove();\n",
              "      return canvas.toDataURL('image/jpeg', quality);\n",
              "    }\n",
              "    "
            ],
            "text/plain": [
              "<IPython.core.display.Javascript object>"
            ]
          },
          "metadata": {
            "tags": []
          }
        },
        {
          "output_type": "stream",
          "text": [
            "/content/drive/My Drive/Colab Notebooks/Visão Computacional/images/DataSetImagens/treino/s11_03.jpg\n"
          ],
          "name": "stdout"
        },
        {
          "output_type": "display_data",
          "data": {
            "application/javascript": [
              "\n",
              "    async function takePhoto(quality) {\n",
              "      const div = document.createElement('div');\n",
              "      const capture = document.createElement('button');\n",
              "      capture.textContent = 'Capture';\n",
              "      div.appendChild(capture);\n",
              "\n",
              "      const video = document.createElement('video');\n",
              "      video.style.display = 'block';\n",
              "      const stream = await navigator.mediaDevices.getUserMedia({video: true});\n",
              "\n",
              "      document.body.appendChild(div);\n",
              "      div.appendChild(video);\n",
              "      video.srcObject = stream;\n",
              "      await video.play();\n",
              "\n",
              "      // Resize the output to fit the video element.\n",
              "      google.colab.output.setIframeHeight(document.documentElement.scrollHeight, true);\n",
              "\n",
              "      // Wait for Capture to be clicked.\n",
              "      // await new Promise((resolve) => capture.onclick = resolve);\n",
              "\n",
              "      const canvas = document.createElement('canvas');\n",
              "      canvas.width = video.videoWidth;\n",
              "      canvas.height = video.videoHeight;\n",
              "      canvas.getContext('2d').drawImage(video, 0, 0);\n",
              "      stream.getVideoTracks()[0].stop();\n",
              "      div.remove();\n",
              "      return canvas.toDataURL('image/jpeg', quality);\n",
              "    }\n",
              "    "
            ],
            "text/plain": [
              "<IPython.core.display.Javascript object>"
            ]
          },
          "metadata": {
            "tags": []
          }
        },
        {
          "output_type": "stream",
          "text": [
            "/content/drive/My Drive/Colab Notebooks/Visão Computacional/images/DataSetImagens/treino/s11_04.jpg\n"
          ],
          "name": "stdout"
        },
        {
          "output_type": "display_data",
          "data": {
            "application/javascript": [
              "\n",
              "    async function takePhoto(quality) {\n",
              "      const div = document.createElement('div');\n",
              "      const capture = document.createElement('button');\n",
              "      capture.textContent = 'Capture';\n",
              "      div.appendChild(capture);\n",
              "\n",
              "      const video = document.createElement('video');\n",
              "      video.style.display = 'block';\n",
              "      const stream = await navigator.mediaDevices.getUserMedia({video: true});\n",
              "\n",
              "      document.body.appendChild(div);\n",
              "      div.appendChild(video);\n",
              "      video.srcObject = stream;\n",
              "      await video.play();\n",
              "\n",
              "      // Resize the output to fit the video element.\n",
              "      google.colab.output.setIframeHeight(document.documentElement.scrollHeight, true);\n",
              "\n",
              "      // Wait for Capture to be clicked.\n",
              "      // await new Promise((resolve) => capture.onclick = resolve);\n",
              "\n",
              "      const canvas = document.createElement('canvas');\n",
              "      canvas.width = video.videoWidth;\n",
              "      canvas.height = video.videoHeight;\n",
              "      canvas.getContext('2d').drawImage(video, 0, 0);\n",
              "      stream.getVideoTracks()[0].stop();\n",
              "      div.remove();\n",
              "      return canvas.toDataURL('image/jpeg', quality);\n",
              "    }\n",
              "    "
            ],
            "text/plain": [
              "<IPython.core.display.Javascript object>"
            ]
          },
          "metadata": {
            "tags": []
          }
        },
        {
          "output_type": "stream",
          "text": [
            "/content/drive/My Drive/Colab Notebooks/Visão Computacional/images/DataSetImagens/treino/s11_05.jpg\n"
          ],
          "name": "stdout"
        },
        {
          "output_type": "display_data",
          "data": {
            "application/javascript": [
              "\n",
              "    async function takePhoto(quality) {\n",
              "      const div = document.createElement('div');\n",
              "      const capture = document.createElement('button');\n",
              "      capture.textContent = 'Capture';\n",
              "      div.appendChild(capture);\n",
              "\n",
              "      const video = document.createElement('video');\n",
              "      video.style.display = 'block';\n",
              "      const stream = await navigator.mediaDevices.getUserMedia({video: true});\n",
              "\n",
              "      document.body.appendChild(div);\n",
              "      div.appendChild(video);\n",
              "      video.srcObject = stream;\n",
              "      await video.play();\n",
              "\n",
              "      // Resize the output to fit the video element.\n",
              "      google.colab.output.setIframeHeight(document.documentElement.scrollHeight, true);\n",
              "\n",
              "      // Wait for Capture to be clicked.\n",
              "      // await new Promise((resolve) => capture.onclick = resolve);\n",
              "\n",
              "      const canvas = document.createElement('canvas');\n",
              "      canvas.width = video.videoWidth;\n",
              "      canvas.height = video.videoHeight;\n",
              "      canvas.getContext('2d').drawImage(video, 0, 0);\n",
              "      stream.getVideoTracks()[0].stop();\n",
              "      div.remove();\n",
              "      return canvas.toDataURL('image/jpeg', quality);\n",
              "    }\n",
              "    "
            ],
            "text/plain": [
              "<IPython.core.display.Javascript object>"
            ]
          },
          "metadata": {
            "tags": []
          }
        },
        {
          "output_type": "stream",
          "text": [
            "/content/drive/My Drive/Colab Notebooks/Visão Computacional/images/DataSetImagens/treino/s11_06.jpg\n"
          ],
          "name": "stdout"
        },
        {
          "output_type": "display_data",
          "data": {
            "application/javascript": [
              "\n",
              "    async function takePhoto(quality) {\n",
              "      const div = document.createElement('div');\n",
              "      const capture = document.createElement('button');\n",
              "      capture.textContent = 'Capture';\n",
              "      div.appendChild(capture);\n",
              "\n",
              "      const video = document.createElement('video');\n",
              "      video.style.display = 'block';\n",
              "      const stream = await navigator.mediaDevices.getUserMedia({video: true});\n",
              "\n",
              "      document.body.appendChild(div);\n",
              "      div.appendChild(video);\n",
              "      video.srcObject = stream;\n",
              "      await video.play();\n",
              "\n",
              "      // Resize the output to fit the video element.\n",
              "      google.colab.output.setIframeHeight(document.documentElement.scrollHeight, true);\n",
              "\n",
              "      // Wait for Capture to be clicked.\n",
              "      // await new Promise((resolve) => capture.onclick = resolve);\n",
              "\n",
              "      const canvas = document.createElement('canvas');\n",
              "      canvas.width = video.videoWidth;\n",
              "      canvas.height = video.videoHeight;\n",
              "      canvas.getContext('2d').drawImage(video, 0, 0);\n",
              "      stream.getVideoTracks()[0].stop();\n",
              "      div.remove();\n",
              "      return canvas.toDataURL('image/jpeg', quality);\n",
              "    }\n",
              "    "
            ],
            "text/plain": [
              "<IPython.core.display.Javascript object>"
            ]
          },
          "metadata": {
            "tags": []
          }
        },
        {
          "output_type": "stream",
          "text": [
            "/content/drive/My Drive/Colab Notebooks/Visão Computacional/images/DataSetImagens/teste/s11_07.jpg\n"
          ],
          "name": "stdout"
        },
        {
          "output_type": "display_data",
          "data": {
            "application/javascript": [
              "\n",
              "    async function takePhoto(quality) {\n",
              "      const div = document.createElement('div');\n",
              "      const capture = document.createElement('button');\n",
              "      capture.textContent = 'Capture';\n",
              "      div.appendChild(capture);\n",
              "\n",
              "      const video = document.createElement('video');\n",
              "      video.style.display = 'block';\n",
              "      const stream = await navigator.mediaDevices.getUserMedia({video: true});\n",
              "\n",
              "      document.body.appendChild(div);\n",
              "      div.appendChild(video);\n",
              "      video.srcObject = stream;\n",
              "      await video.play();\n",
              "\n",
              "      // Resize the output to fit the video element.\n",
              "      google.colab.output.setIframeHeight(document.documentElement.scrollHeight, true);\n",
              "\n",
              "      // Wait for Capture to be clicked.\n",
              "      // await new Promise((resolve) => capture.onclick = resolve);\n",
              "\n",
              "      const canvas = document.createElement('canvas');\n",
              "      canvas.width = video.videoWidth;\n",
              "      canvas.height = video.videoHeight;\n",
              "      canvas.getContext('2d').drawImage(video, 0, 0);\n",
              "      stream.getVideoTracks()[0].stop();\n",
              "      div.remove();\n",
              "      return canvas.toDataURL('image/jpeg', quality);\n",
              "    }\n",
              "    "
            ],
            "text/plain": [
              "<IPython.core.display.Javascript object>"
            ]
          },
          "metadata": {
            "tags": []
          }
        },
        {
          "output_type": "stream",
          "text": [
            "/content/drive/My Drive/Colab Notebooks/Visão Computacional/images/DataSetImagens/teste/s11_08.jpg\n"
          ],
          "name": "stdout"
        },
        {
          "output_type": "display_data",
          "data": {
            "application/javascript": [
              "\n",
              "    async function takePhoto(quality) {\n",
              "      const div = document.createElement('div');\n",
              "      const capture = document.createElement('button');\n",
              "      capture.textContent = 'Capture';\n",
              "      div.appendChild(capture);\n",
              "\n",
              "      const video = document.createElement('video');\n",
              "      video.style.display = 'block';\n",
              "      const stream = await navigator.mediaDevices.getUserMedia({video: true});\n",
              "\n",
              "      document.body.appendChild(div);\n",
              "      div.appendChild(video);\n",
              "      video.srcObject = stream;\n",
              "      await video.play();\n",
              "\n",
              "      // Resize the output to fit the video element.\n",
              "      google.colab.output.setIframeHeight(document.documentElement.scrollHeight, true);\n",
              "\n",
              "      // Wait for Capture to be clicked.\n",
              "      // await new Promise((resolve) => capture.onclick = resolve);\n",
              "\n",
              "      const canvas = document.createElement('canvas');\n",
              "      canvas.width = video.videoWidth;\n",
              "      canvas.height = video.videoHeight;\n",
              "      canvas.getContext('2d').drawImage(video, 0, 0);\n",
              "      stream.getVideoTracks()[0].stop();\n",
              "      div.remove();\n",
              "      return canvas.toDataURL('image/jpeg', quality);\n",
              "    }\n",
              "    "
            ],
            "text/plain": [
              "<IPython.core.display.Javascript object>"
            ]
          },
          "metadata": {
            "tags": []
          }
        },
        {
          "output_type": "stream",
          "text": [
            "/content/drive/My Drive/Colab Notebooks/Visão Computacional/images/DataSetImagens/teste/s11_09.jpg\n"
          ],
          "name": "stdout"
        }
      ]
    },
    {
      "cell_type": "code",
      "metadata": {
        "id": "_tYKSYivXXsr",
        "colab_type": "code",
        "colab": {
          "base_uri": "https://localhost:8080/",
          "height": 51
        },
        "outputId": "05410e0f-0c1d-4de3-b6b3-0ad7b463b2bf"
      },
      "source": [
        "#Nome das imagens para rodar\n",
        "nome_imagens_treino = []\n",
        "nome_imagens_teste = []\n",
        "\n",
        "#Labels das imagens\n",
        "labels_imagens_treino = []\n",
        "labels_imagens_teste = []\n",
        "\n",
        "from os import walk\n",
        "#Imagens de treino\n",
        "for (dirpath, dirnames, filenames) in walk( path_base + treino ):\n",
        "  for arquivo in filenames:\n",
        "    if '.jpg' or '.jpeg' in arquivo:\n",
        "      nome_imagens_treino.append(arquivo)\n",
        "      labels_imagens_treino.append(arquivo[1:3])\n",
        "\n",
        "print(len(nome_imagens_treino))\n",
        "\n",
        "#Imagens de teste\n",
        "for (dirpath, dirnames, filenames) in walk(path_base+teste):\n",
        "  for arquivo in filenames:\n",
        "    if '.jpg' in arquivo or '.jpeg' in arquivo :\n",
        "      nome_imagens_teste.append(arquivo)\n",
        "      labels_imagens_teste.append(arquivo[1:3])\n",
        "\n",
        "print(len(nome_imagens_teste))"
      ],
      "execution_count": null,
      "outputs": [
        {
          "output_type": "stream",
          "text": [
            "63\n",
            "27\n"
          ],
          "name": "stdout"
        }
      ]
    },
    {
      "cell_type": "code",
      "metadata": {
        "id": "tnaG7l35ceMJ",
        "colab_type": "code",
        "colab": {}
      },
      "source": [
        "path_cascade = '/content/drive/My Drive/Colab Notebooks/Visão Computacional/classificadores/dados/classificadores/haarcascade_frontalface_default.xml'"
      ],
      "execution_count": null,
      "outputs": []
    },
    {
      "cell_type": "code",
      "metadata": {
        "id": "1uj6jMs3dch_",
        "colab_type": "code",
        "colab": {}
      },
      "source": [
        "import cv2\n",
        "import matplotlib.pyplot as plt\n",
        "%matplotlib inline"
      ],
      "execution_count": null,
      "outputs": []
    },
    {
      "cell_type": "code",
      "metadata": {
        "id": "RZczeve-dd1q",
        "colab_type": "code",
        "colab": {}
      },
      "source": [
        "classificador = cv2.CascadeClassifier( path_cascade )"
      ],
      "execution_count": null,
      "outputs": []
    },
    {
      "cell_type": "code",
      "metadata": {
        "id": "GBF3NszweHU0",
        "colab_type": "code",
        "colab": {
          "base_uri": "https://localhost:8080/",
          "height": 286
        },
        "outputId": "6f6f0223-1aa0-48fc-8e4c-b0fecc913fe6"
      },
      "source": [
        "# print(path_base+treino+nome_imagens_treino[40])\n",
        "\n",
        "img = cv2.imread( path_base + treino + nome_imagens_treino[9], cv2.IMREAD_GRAYSCALE )\n",
        "faces_detectadas = classificador.detectMultiScale( img, 1.3, 5 )\n",
        "img_roi = None\n",
        "\n",
        "for x,y,w,h in faces_detectadas:\n",
        "  img_roi = img[y:y+h, x:x+w]\n",
        "  \n",
        "#Para verificar se uma imagem foi detectada\n",
        "if img_roi is not None:\n",
        "  print( img_roi.shape )\n",
        "  plt.imshow(img_roi, cmap='gray')\n",
        "  plt.show()"
      ],
      "execution_count": null,
      "outputs": [
        {
          "output_type": "stream",
          "text": [
            "(186, 186)\n"
          ],
          "name": "stdout"
        },
        {
          "output_type": "display_data",
          "data": {
            "image/png": "[encoded data removed]",
            "text/plain": [
              "<Figure size 432x288 with 1 Axes>"
            ]
          },
          "metadata": {
            "tags": [],
            "needs_background": "light"
          }
        }
      ]
    },
    {
      "cell_type": "code",
      "metadata": {
        "id": "xK8ZcJKRh8Ke",
        "colab_type": "code",
        "colab": {
          "base_uri": "https://localhost:8080/",
          "height": 51
        },
        "outputId": "60df788d-de6e-4056-ab4d-029169d766f0"
      },
      "source": [
        "#Labels das imagens\n",
        "labels_imagens_treino = []\n",
        "labels_imagens_teste = []\n",
        "\n",
        "#Imagens tratadas\n",
        "imagens_roi_treino = []\n",
        "imagens_roi_teste = []\n",
        "\n",
        "for nome_imagem in nome_imagens_treino:\n",
        "  # print(path_base+treino+nome_imagem)\n",
        "\n",
        "  img = cv2.imread(path_base+treino+nome_imagem, cv2.IMREAD_GRAYSCALE)\n",
        "  faces_detectadas = classificador.detectMultiScale(img, 1.3, 5)\n",
        "  img_roi = None\n",
        "\n",
        "  for x,y,w,h in faces_detectadas:\n",
        "    img_roi = img[y:y+h, x:x+w]\n",
        "\n",
        "  #Para verificar se uma imagem foi detectada\n",
        "  if img_roi is not None:\n",
        "    img_roi = cv2.resize(img_roi, (200,200))\n",
        "    imagens_roi_treino.append(img_roi)\n",
        "    labels_imagens_treino.append(nome_imagem[1:3])\n",
        "\n",
        "print(len(imagens_roi_treino))\n",
        "\n",
        "\n",
        "for nome_imagem in nome_imagens_teste:\n",
        "  # print(path_base+treino+nome_imagem)\n",
        "\n",
        "  img = cv2.imread(path_base+teste+nome_imagem, cv2.IMREAD_GRAYSCALE)\n",
        "  faces_detectadas = classificador.detectMultiScale(img, 1.3, 5)\n",
        "  img_roi = None\n",
        "\n",
        "  for x,y,w,h in faces_detectadas:\n",
        "    img_roi = img[y:y+h, x:x+w]\n",
        "\n",
        "  #Para verificar se uma imagem foi detectada\n",
        "  if img_roi is not None:\n",
        "    img_roi = cv2.resize(img_roi, (200,200))\n",
        "    imagens_roi_teste.append(img_roi)\n",
        "    labels_imagens_teste.append(nome_imagem[1:3])\n",
        "    \n",
        "print(len(imagens_roi_teste))\n"
      ],
      "execution_count": null,
      "outputs": [
        {
          "output_type": "stream",
          "text": [
            "49\n",
            "25\n"
          ],
          "name": "stdout"
        }
      ]
    },
    {
      "cell_type": "markdown",
      "metadata": {
        "id": "fr26ON23sVlH",
        "colab_type": "text"
      },
      "source": [
        "### Converter os Labels para np.int32"
      ]
    },
    {
      "cell_type": "code",
      "metadata": {
        "id": "HAbmNtl_ibv6",
        "colab_type": "code",
        "colab": {}
      },
      "source": [
        "import numpy as np\n",
        "\n",
        "labels_imagens_teste = np.asarray( labels_imagens_teste, dtype=np.int32 )\n",
        "labels_imagens_treino = np.asarray( labels_imagens_treino, dtype=np.int32 )"
      ],
      "execution_count": null,
      "outputs": []
    },
    {
      "cell_type": "markdown",
      "metadata": {
        "id": "kYdANdMVi0hF",
        "colab_type": "text"
      },
      "source": [
        "## Classificadores"
      ]
    },
    {
      "cell_type": "code",
      "metadata": {
        "id": "ZLW2GRE4i2Nc",
        "colab_type": "code",
        "colab": {}
      },
      "source": [
        "#Para verificar a acurácia do modelo gerado\n",
        "from sklearn.metrics import accuracy_score"
      ],
      "execution_count": null,
      "outputs": []
    },
    {
      "cell_type": "markdown",
      "metadata": {
        "id": "pPSUSSrds1jF",
        "colab_type": "text"
      },
      "source": [
        "### Modelo de Eingen Faces"
      ]
    },
    {
      "cell_type": "code",
      "metadata": {
        "id": "FRjLfdqxi7Pe",
        "colab_type": "code",
        "colab": {
          "base_uri": "https://localhost:8080/",
          "height": 68
        },
        "outputId": "e27c3ca2-ef9c-4a11-e6bd-08f95ef98b50"
      },
      "source": [
        "#Carrega o modelo de Eingen Faces\n",
        "modelo_eingen = cv2.face.EigenFaceRecognizer_create()\n",
        "\n",
        "#Treinar o modelo de Eingen\n",
        "modelo_eingen.train( imagens_roi_treino, labels_imagens_treino )\n",
        "\n",
        "#Verifica o modelo\n",
        "resultado = modelo_eingen.predict(imagens_roi_teste[9])\n",
        "print(resultado)\n",
        "print(labels_imagens_teste[9])\n",
        "\n",
        "#Verifica a acurácia do modelo de Eingen\n",
        "predicoes_eingen = []\n",
        "for imagem in imagens_roi_teste:\n",
        "  predicoes_eingen.append(modelo_eingen.predict(imagem)[0])\n",
        "\n",
        "resultado_modelo_eingen = accuracy_score(labels_imagens_teste, predicoes_eingen)\n",
        "print(resultado_modelo_eingen)"
      ],
      "execution_count": null,
      "outputs": [
        {
          "output_type": "stream",
          "text": [
            "(12, 2295.5998826685905)\n",
            "12\n",
            "1.0\n"
          ],
          "name": "stdout"
        }
      ]
    },
    {
      "cell_type": "markdown",
      "metadata": {
        "id": "8MgTcBEztE45",
        "colab_type": "text"
      },
      "source": [
        "### Modelo FisherFaces"
      ]
    },
    {
      "cell_type": "code",
      "metadata": {
        "id": "zBHlRfYpjkHT",
        "colab_type": "code",
        "colab": {
          "base_uri": "https://localhost:8080/",
          "height": 68
        },
        "outputId": "198d3dfa-f7a1-45d6-c0b8-c84bbe34993b"
      },
      "source": [
        "#Carrega o modelo de FisherFaces\n",
        "modelo_fisher = cv2.face.FisherFaceRecognizer_create()\n",
        "\n",
        "#Treinar o modelo de Fisher\n",
        "modelo_fisher.train(imagens_roi_treino,labels_imagens_treino)\n",
        "\n",
        "#Verifica o modelo\n",
        "resultado = modelo_fisher.predict(imagens_roi_teste[9])\n",
        "print(resultado)\n",
        "print(labels_imagens_teste[9])\n",
        "\n",
        "#Verifica a acurácia do modelo de fisher\n",
        "predicoes_fisher = []\n",
        "for imagem in imagens_roi_teste:\n",
        "  predicoes_fisher.append(modelo_fisher.predict(imagem)[0])\n",
        "\n",
        "resultado_modelo_fisher = accuracy_score(labels_imagens_teste, predicoes_fisher)\n",
        "print(resultado_modelo_fisher)"
      ],
      "execution_count": null,
      "outputs": [
        {
          "output_type": "stream",
          "text": [
            "(12, 282.0622009008674)\n",
            "12\n",
            "1.0\n"
          ],
          "name": "stdout"
        }
      ]
    },
    {
      "cell_type": "markdown",
      "metadata": {
        "id": "dnx5JsUitO8C",
        "colab_type": "text"
      },
      "source": [
        "### Modelo LBPH"
      ]
    },
    {
      "cell_type": "code",
      "metadata": {
        "id": "O7uy83FStLqu",
        "colab_type": "code",
        "colab": {
          "base_uri": "https://localhost:8080/",
          "height": 68
        },
        "outputId": "3058044a-7883-4f9a-91e0-6c437f3f9d19"
      },
      "source": [
        "#Carrega o modelo de LBPH\n",
        "modelo_LBPH = cv2.face.LBPHFaceRecognizer_create()\n",
        "\n",
        "#Treinar o modelo de LBPH\n",
        "modelo_LBPH.train(imagens_roi_treino,labels_imagens_treino)\n",
        "\n",
        "#Verifica o modelo\n",
        "resultado = modelo_LBPH.predict(imagens_roi_teste[9])\n",
        "print(resultado)\n",
        "print(labels_imagens_teste[9])\n",
        "\n",
        "#Verifica a acurácia do modelo de LBPH\n",
        "predicoes_LBPH = []\n",
        "for imagem in imagens_roi_teste:\n",
        "  predicoes_LBPH.append(modelo_LBPH.predict(imagem)[0])\n",
        "\n",
        "resultado_modelo_LBPH = accuracy_score(labels_imagens_teste, predicoes_LBPH)\n",
        "print(resultado_modelo_LBPH)"
      ],
      "execution_count": null,
      "outputs": [
        {
          "output_type": "stream",
          "text": [
            "(12, 21.136304409142763)\n",
            "12\n",
            "1.0\n"
          ],
          "name": "stdout"
        }
      ]
    },
    {
      "cell_type": "markdown",
      "metadata": {
        "id": "kmhGSym3tdkH",
        "colab_type": "text"
      },
      "source": [
        "### Hora de testar "
      ]
    },
    {
      "cell_type": "code",
      "metadata": {
        "id": "-9r2No8jtaEH",
        "colab_type": "code",
        "colab": {
          "base_uri": "https://localhost:8080/",
          "height": 286
        },
        "outputId": "e3ed8c4f-cc00-44c6-cef7-9043a110c6da"
      },
      "source": [
        "#Teste da verdade agora!\n",
        "img = cv2.imread('teste.jpg',cv2.IMREAD_GRAYSCALE)\n",
        "\n",
        "faces_detectadas = classificador.detectMultiScale(img, 1.3, 5)\n",
        "img_roi = None\n",
        "\n",
        "for x,y,w,h in faces_detectadas:\n",
        "  img_roi = img[y:y+h, x:x+w]\n",
        "  #Para verificar se uma imagem foi detectada\n",
        "\n",
        "if img_roi is not None:\n",
        "  img_roi = cv2.resize(img_roi, (200,200))\n",
        "  plt.imshow(img_roi, cmap='gray')\n",
        "  plt.show()\n",
        "  saidas = []\n",
        "  saidas.append(modelo_eingen.predict(img_roi)) \n",
        "  saidas.append(modelo_fisher.predict(img_roi)) \n",
        "  saidas.append(modelo_LBPH.predict(img_roi))\n",
        "  print(saidas) \n"
      ],
      "execution_count": null,
      "outputs": [
        {
          "output_type": "display_data",
          "data": {
            "image/png": "[encoded data removed]",
            "text/plain": [
              "<Figure size 432x288 with 1 Axes>"
            ]
          },
          "metadata": {
            "tags": [],
            "needs_background": "light"
          }
        },
        {
          "output_type": "stream",
          "text": [
            "[(11, 7252.913659628123), (11, 3950.436468339277), (11, 47.059314124809454)]\n"
          ],
          "name": "stdout"
        }
      ]
    },
    {
      "cell_type": "code",
      "metadata": {
        "id": "tEB_RwMHtrB6",
        "colab_type": "code",
        "colab": {}
      },
      "source": [
        ""
      ],
      "execution_count": null,
      "outputs": []
    }
  ]
}